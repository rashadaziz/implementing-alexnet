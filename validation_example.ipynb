{
 "cells": [
  {
   "cell_type": "code",
   "execution_count": 1,
   "id": "4409f4f6",
   "metadata": {},
   "outputs": [],
   "source": [
    "import torch\n",
    "from alexnet.base import AlexNetBase\n",
    "from tqdm import tqdm"
   ]
  },
  {
   "cell_type": "code",
   "execution_count": 4,
   "id": "e8821041",
   "metadata": {},
   "outputs": [
    {
     "data": {
      "text/plain": [
       "<All keys matched successfully>"
      ]
     },
     "execution_count": 4,
     "metadata": {},
     "output_type": "execute_result"
    }
   ],
   "source": [
    "device = torch.device(\"cuda\" if torch.cuda.is_available() else \"cpu\")\n",
    "model = AlexNetBase().to(device)\n",
    "model.load_state_dict(torch.load(\".checkpoint/alexnet_5_epochs.pth\"))"
   ]
  },
  {
   "cell_type": "code",
   "execution_count": null,
   "id": "43c5cf6e",
   "metadata": {},
   "outputs": [
    {
     "name": "stderr",
     "output_type": "stream",
     "text": [
      "Testing Accuracy:   0%|          | 0/781 [00:00<?, ? batches/s]"
     ]
    },
    {
     "name": "stdout",
     "output_type": "stream",
     "text": [
      "tensor(1, device='cuda:0')\n"
     ]
    },
    {
     "name": "stderr",
     "output_type": "stream",
     "text": [
      "Testing Accuracy:   0%|          | 0/781 [00:01<?, ? batches/s]"
     ]
    },
    {
     "name": "stdout",
     "output_type": "stream",
     "text": [
      "Accuracy: 39.06%\n",
      "Top-5 Accuracy: 0.00%\n",
      "Total samples: 64\n"
     ]
    },
    {
     "name": "stderr",
     "output_type": "stream",
     "text": [
      "\n"
     ]
    }
   ],
   "source": [
    "from data.dataset import get_dataloaders\n",
    "\n",
    "_, test_dataloader, _ = get_dataloaders(batch_size=64, num_workers=4)\n",
    "\n",
    "correct = 0\n",
    "correct_top_5 = 0\n",
    "total = 0\n",
    "\n",
    "with torch.no_grad():\n",
    "    with tqdm(total=len(test_dataloader.dataset) // test_dataloader.batch_size, desc=f\"Testing Accuracy\", unit=\" batches\") as pbar:\n",
    "        model.eval()\n",
    "        for batch in test_dataloader:\n",
    "            images, labels = batch['pixel_values'], batch['labels']\n",
    "            batch_size, num_crops = images.shape[:2]\n",
    "            images = images.view(-1, *images.shape[2:]) # (batch_size * num_crops, channels, height, width)\n",
    "            images, labels = images.to(device), labels.to(device)\n",
    "\n",
    "            outputs = model(images)\n",
    "            outputs = outputs.view(batch_size, num_crops, -1)\n",
    "            avg_outputs = outputs.mean(dim=1) # avg(each batch, :, each prediction)\n",
    "            _, predicted = avg_outputs.max(1)\n",
    "\n",
    "            correct += predicted.eq(labels).sum().item()\n",
    "            total += labels.size(0)\n",
    "            _, top_5_predicted = avg_outputs.topk(5, dim=1)\n",
    "            correct_top_5 += top_5_predicted.eq(labels.view(-1, 1)).sum().item()\n",
    "\n",
    "            pbar.update(1)\n",
    "\n",
    "print(f\"Accuracy: {100 * correct / total:.2f}%\")\n",
    "print(f\"Top-5 Accuracy: {100 * correct_top_5 / total:.2f}%\")\n",
    "print(f\"Total samples: {total}\")"
   ]
  },
  {
   "cell_type": "code",
   "execution_count": null,
   "id": "56748e70",
   "metadata": {},
   "outputs": [],
   "source": []
  }
 ],
 "metadata": {
  "kernelspec": {
   "display_name": "env",
   "language": "python",
   "name": "python3"
  },
  "language_info": {
   "codemirror_mode": {
    "name": "ipython",
    "version": 3
   },
   "file_extension": ".py",
   "mimetype": "text/x-python",
   "name": "python",
   "nbconvert_exporter": "python",
   "pygments_lexer": "ipython3",
   "version": "3.13.3"
  }
 },
 "nbformat": 4,
 "nbformat_minor": 5
}
