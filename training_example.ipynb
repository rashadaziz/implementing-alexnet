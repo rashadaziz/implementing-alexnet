{
 "cells": [
  {
   "cell_type": "code",
   "execution_count": null,
   "id": "b459ea8f",
   "metadata": {},
   "outputs": [
    {
     "data": {
      "application/vnd.jupyter.widget-view+json": {
       "model_id": "349a6db519e14c3696fc2d6fc1dc785e",
       "version_major": 2,
       "version_minor": 0
      },
      "text/plain": [
       "Loading dataset shards:   0%|          | 0/257 [00:00<?, ?it/s]"
      ]
     },
     "metadata": {},
     "output_type": "display_data"
    },
    {
     "data": {
      "application/vnd.jupyter.widget-view+json": {
       "model_id": "5563d17f4ea54f84b7ff2834f5fb03b9",
       "version_major": 2,
       "version_minor": 0
      },
      "text/plain": [
       "Loading dataset shards:   0%|          | 0/25 [00:00<?, ?it/s]"
      ]
     },
     "metadata": {},
     "output_type": "display_data"
    },
    {
     "name": "stderr",
     "output_type": "stream",
     "text": [
      "Fitting PCA:  11%|█         | 13568/128117 [00:10<01:22, 1386.59it/s]/home/rashad/dev/implementing-alexnet/env/lib/python3.13/site-packages/PIL/TiffImagePlugin.py:935: UserWarning: Corrupt EXIF data.  Expecting to read 4 bytes but only got 0. \n",
      "  warnings.warn(str(msg))\n",
      "Fitting PCA: 100%|██████████| 128117/128117 [01:20<00:00, 1599.60it/s]"
     ]
    },
    {
     "name": "stdout",
     "output_type": "stream",
     "text": [
      "Eigenvalues: tensor([0.0043, 0.0187, 0.1961])\n",
      "Eigenvectors: tensor([[ 0.3937, -0.7244, -0.5659],\n",
      "        [-0.8134,  0.0122, -0.5815],\n",
      "        [ 0.4282,  0.6893, -0.5844]])\n"
     ]
    },
    {
     "name": "stderr",
     "output_type": "stream",
     "text": [
      "\n"
     ]
    }
   ],
   "source": [
    "import torch\n",
    "torch.manual_seed(42)  # For reproducibility\n",
    "\n",
    "from data.dataset import get_dataloaders_pca\n",
    "from alexnet.augmentation.pca import ImageNetPCA\n",
    "\n",
    "train_loader, _, _ = get_dataloaders_pca()\n",
    "pca = ImageNetPCA(train_loader)\n",
    "eigenvalues, eigenvectors = pca.fit()\n",
    "\n",
    "print(\"Eigenvalues:\", eigenvalues)\n",
    "print(\"Eigenvectors:\", eigenvectors)\n",
    "\n"
   ]
  }
 ],
 "metadata": {
  "kernelspec": {
   "display_name": "env",
   "language": "python",
   "name": "python3"
  },
  "language_info": {
   "codemirror_mode": {
    "name": "ipython",
    "version": 3
   },
   "file_extension": ".py",
   "mimetype": "text/x-python",
   "name": "python",
   "nbconvert_exporter": "python",
   "pygments_lexer": "ipython3",
   "version": "3.13.3"
  }
 },
 "nbformat": 4,
 "nbformat_minor": 5
}
